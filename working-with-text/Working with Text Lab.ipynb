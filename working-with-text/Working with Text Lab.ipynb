{
 "cells": [
  {
   "cell_type": "code",
   "execution_count": 235,
   "id": "bb8c5630-11b2-41b9-98a2-f67d6cebc323",
   "metadata": {},
   "outputs": [],
   "source": [
    "# Write your imports here\n",
    "import numpy as np\n",
    "import pandas as pd\n",
    "import matplotlib.pyplot as plt"
   ]
  },
  {
   "cell_type": "markdown",
   "id": "0375379c-19e4-4e50-9f63-5c74cf81ece5",
   "metadata": {},
   "source": [
    "# Working with Text Lab\n",
    "## Information retrieval, preprocessing, and feature extraction"
   ]
  },
  {
   "cell_type": "markdown",
   "id": "d92edf71-988c-4e95-b17f-987095e9246a",
   "metadata": {},
   "source": [
    "In this lab, you'll be looking at and exploring European restaurant reviews. The dataset is rather tiny, but that's just because it has to run on any machine. In real life, just like with images, texts can be several terabytes long.\n",
    "\n",
    "The dataset is located [here](https://www.kaggle.com/datasets/gorororororo23/european-restaurant-reviews) and as always, it's been provided to you in the `data/` folder."
   ]
  },
  {
   "cell_type": "markdown",
   "id": "888cf2cf-1cd7-4538-a7a2-462e80b1df99",
   "metadata": {},
   "source": [
    "### Problem 1. Read the dataset (1 point)\n",
    "Read the dataset, get acquainted with it. Ensure the data is valid before you proceed.\n",
    "\n",
    "How many observations are there? Which country is the most represented? What time range does the dataset represent?\n",
    "\n",
    "Is the sample balanced in terms of restaurants, i.e., do you have an equal number of reviews for each one? Most importantly, is the dataset balanced in terms of **sentiment**?"
   ]
  },
  {
   "cell_type": "code",
   "execution_count": 236,
   "id": "596f1cf0-acfe-4e05-a953-6a2fc1ea2463",
   "metadata": {},
   "outputs": [
    {
     "data": {
      "text/html": [
       "<div>\n",
       "<style scoped>\n",
       "    .dataframe tbody tr th:only-of-type {\n",
       "        vertical-align: middle;\n",
       "    }\n",
       "\n",
       "    .dataframe tbody tr th {\n",
       "        vertical-align: top;\n",
       "    }\n",
       "\n",
       "    .dataframe thead th {\n",
       "        text-align: right;\n",
       "    }\n",
       "</style>\n",
       "<table border=\"1\" class=\"dataframe\">\n",
       "  <thead>\n",
       "    <tr style=\"text-align: right;\">\n",
       "      <th></th>\n",
       "      <th>Country</th>\n",
       "      <th>Restaurant Name</th>\n",
       "      <th>Sentiment</th>\n",
       "      <th>Review Title</th>\n",
       "      <th>Review Date</th>\n",
       "      <th>Review</th>\n",
       "    </tr>\n",
       "  </thead>\n",
       "  <tbody>\n",
       "    <tr>\n",
       "      <th>0</th>\n",
       "      <td>France</td>\n",
       "      <td>The Frog at Bercy Village</td>\n",
       "      <td>Negative</td>\n",
       "      <td>Rude manager</td>\n",
       "      <td>May 2024 •</td>\n",
       "      <td>The manager became agressive when I said the c...</td>\n",
       "    </tr>\n",
       "    <tr>\n",
       "      <th>1</th>\n",
       "      <td>France</td>\n",
       "      <td>The Frog at Bercy Village</td>\n",
       "      <td>Negative</td>\n",
       "      <td>A big disappointment</td>\n",
       "      <td>Feb 2024 •</td>\n",
       "      <td>I ordered a beef fillet ask to be done medium,...</td>\n",
       "    </tr>\n",
       "    <tr>\n",
       "      <th>2</th>\n",
       "      <td>France</td>\n",
       "      <td>The Frog at Bercy Village</td>\n",
       "      <td>Negative</td>\n",
       "      <td>Pretty Place with Bland Food</td>\n",
       "      <td>Nov 2023 •</td>\n",
       "      <td>This is an attractive venue with welcoming, al...</td>\n",
       "    </tr>\n",
       "    <tr>\n",
       "      <th>3</th>\n",
       "      <td>France</td>\n",
       "      <td>The Frog at Bercy Village</td>\n",
       "      <td>Negative</td>\n",
       "      <td>Great service and wine but inedible food</td>\n",
       "      <td>Mar 2023 •</td>\n",
       "      <td>Sadly I  used the high TripAdvisor rating too ...</td>\n",
       "    </tr>\n",
       "    <tr>\n",
       "      <th>4</th>\n",
       "      <td>France</td>\n",
       "      <td>The Frog at Bercy Village</td>\n",
       "      <td>Negative</td>\n",
       "      <td>Avoid- Worst meal in Rome - possibly ever</td>\n",
       "      <td>Nov 2022 •</td>\n",
       "      <td>From the start this meal was bad- especially g...</td>\n",
       "    </tr>\n",
       "    <tr>\n",
       "      <th>...</th>\n",
       "      <td>...</td>\n",
       "      <td>...</td>\n",
       "      <td>...</td>\n",
       "      <td>...</td>\n",
       "      <td>...</td>\n",
       "      <td>...</td>\n",
       "    </tr>\n",
       "    <tr>\n",
       "      <th>1497</th>\n",
       "      <td>Cuba</td>\n",
       "      <td>Old Square (Plaza Vieja)</td>\n",
       "      <td>Negative</td>\n",
       "      <td>The Tourism Trap</td>\n",
       "      <td>Oct 2016 •</td>\n",
       "      <td>Despite the other reviews saying that this is ...</td>\n",
       "    </tr>\n",
       "    <tr>\n",
       "      <th>1498</th>\n",
       "      <td>Cuba</td>\n",
       "      <td>Old Square (Plaza Vieja)</td>\n",
       "      <td>Negative</td>\n",
       "      <td>the beer factory</td>\n",
       "      <td>Oct 2016 •</td>\n",
       "      <td>beer is good.  food is awfull  The only decent...</td>\n",
       "    </tr>\n",
       "    <tr>\n",
       "      <th>1499</th>\n",
       "      <td>Cuba</td>\n",
       "      <td>Old Square (Plaza Vieja)</td>\n",
       "      <td>Negative</td>\n",
       "      <td>brewery</td>\n",
       "      <td>Oct 2016 •</td>\n",
       "      <td>for terrible service of a truly comedic level,...</td>\n",
       "    </tr>\n",
       "    <tr>\n",
       "      <th>1500</th>\n",
       "      <td>Cuba</td>\n",
       "      <td>Old Square (Plaza Vieja)</td>\n",
       "      <td>Negative</td>\n",
       "      <td>It's nothing exciting over there</td>\n",
       "      <td>Oct 2016 •</td>\n",
       "      <td>We visited the Havana's Club Museum which is l...</td>\n",
       "    </tr>\n",
       "    <tr>\n",
       "      <th>1501</th>\n",
       "      <td>Cuba</td>\n",
       "      <td>Old Square (Plaza Vieja)</td>\n",
       "      <td>Negative</td>\n",
       "      <td>Tourist Trap</td>\n",
       "      <td>Oct 2016 •</td>\n",
       "      <td>Food and service was awful. Very pretty stop. ...</td>\n",
       "    </tr>\n",
       "  </tbody>\n",
       "</table>\n",
       "<p>1502 rows × 6 columns</p>\n",
       "</div>"
      ],
      "text/plain": [
       "     Country            Restaurant Name Sentiment  \\\n",
       "0     France  The Frog at Bercy Village  Negative   \n",
       "1     France  The Frog at Bercy Village  Negative   \n",
       "2     France  The Frog at Bercy Village  Negative   \n",
       "3     France  The Frog at Bercy Village  Negative   \n",
       "4     France  The Frog at Bercy Village  Negative   \n",
       "...      ...                        ...       ...   \n",
       "1497    Cuba   Old Square (Plaza Vieja)  Negative   \n",
       "1498    Cuba   Old Square (Plaza Vieja)  Negative   \n",
       "1499    Cuba   Old Square (Plaza Vieja)  Negative   \n",
       "1500    Cuba   Old Square (Plaza Vieja)  Negative   \n",
       "1501    Cuba   Old Square (Plaza Vieja)  Negative   \n",
       "\n",
       "                                   Review Title Review Date  \\\n",
       "0                                  Rude manager  May 2024 •   \n",
       "1                          A big disappointment  Feb 2024 •   \n",
       "2                  Pretty Place with Bland Food  Nov 2023 •   \n",
       "3      Great service and wine but inedible food  Mar 2023 •   \n",
       "4     Avoid- Worst meal in Rome - possibly ever  Nov 2022 •   \n",
       "...                                         ...         ...   \n",
       "1497                           The Tourism Trap  Oct 2016 •   \n",
       "1498                           the beer factory  Oct 2016 •   \n",
       "1499                                    brewery  Oct 2016 •   \n",
       "1500           It's nothing exciting over there  Oct 2016 •   \n",
       "1501                               Tourist Trap  Oct 2016 •   \n",
       "\n",
       "                                                 Review  \n",
       "0     The manager became agressive when I said the c...  \n",
       "1     I ordered a beef fillet ask to be done medium,...  \n",
       "2     This is an attractive venue with welcoming, al...  \n",
       "3     Sadly I  used the high TripAdvisor rating too ...  \n",
       "4     From the start this meal was bad- especially g...  \n",
       "...                                                 ...  \n",
       "1497  Despite the other reviews saying that this is ...  \n",
       "1498  beer is good.  food is awfull  The only decent...  \n",
       "1499  for terrible service of a truly comedic level,...  \n",
       "1500  We visited the Havana's Club Museum which is l...  \n",
       "1501  Food and service was awful. Very pretty stop. ...  \n",
       "\n",
       "[1502 rows x 6 columns]"
      ]
     },
     "execution_count": 236,
     "metadata": {},
     "output_type": "execute_result"
    }
   ],
   "source": [
    "df = pd.read_csv(\"data/European Restaurant Reviews.csv\")\n",
    "df"
   ]
  },
  {
   "cell_type": "code",
   "execution_count": 243,
   "id": "47dfec0d-1537-4fdf-9ccf-3f0542c92ea1",
   "metadata": {},
   "outputs": [],
   "source": [
    "df = df.dropna(subset=['Restaurant Name'])\n",
    "df = df.reset_index(drop=True, inplace=True)\n",
    "df"
   ]
  },
  {
   "cell_type": "code",
   "execution_count": 237,
   "id": "91ea94b2-2c7a-4587-b923-c9f23e863d48",
   "metadata": {},
   "outputs": [
    {
     "data": {
      "text/plain": [
       "Country\n",
       "France     512\n",
       "Italy      318\n",
       "Morroco    210\n",
       "Cuba       146\n",
       "Poland     135\n",
       "Russia     100\n",
       "India       81\n",
       "Name: count, dtype: int64"
      ]
     },
     "execution_count": 237,
     "metadata": {},
     "output_type": "execute_result"
    }
   ],
   "source": [
    "df['Country'].value_counts()"
   ]
  },
  {
   "cell_type": "code",
   "execution_count": 238,
   "id": "6da27bd4-39dd-4c63-b5a6-c171cd626d6b",
   "metadata": {},
   "outputs": [],
   "source": [
    "for i in range (len(df['Review Date'])):\n",
    "    new_date = str(df['Review Date'][i])\n",
    "    df['Review Date'][i] = new_date[:-2]"
   ]
  },
  {
   "cell_type": "code",
   "execution_count": 239,
   "id": "2c53d2f2-b550-4f1f-b591-7b633ccd8c2e",
   "metadata": {},
   "outputs": [],
   "source": [
    "df = df.drop(df[df['Review Date'] == 'Sep 20'].index)\n",
    "df['Review Date'] = pd.to_datetime(df['Review Date'], format='mixed')\n",
    "df['Review Date'] = pd.to_datetime(df['Review Date'], format='%m%Y').dt.to_period('m')"
   ]
  },
  {
   "cell_type": "code",
   "execution_count": 240,
   "id": "94d9dc9c-6e97-4f41-a828-01557880ef10",
   "metadata": {},
   "outputs": [
    {
     "data": {
      "text/plain": [
       "<PeriodArray>\n",
       "['2024-05', '2024-02', '2023-11', '2023-03', '2022-11', '2021-07', '2020-01',\n",
       " '2019-10', '2019-06', '2019-05',\n",
       " ...\n",
       " '2019-11', '2019-12', '2024-07', '2014-09', '2013-10', '2023-01', '2022-05',\n",
       " '2021-09', '2020-03', '2020-04']\n",
       "Length: 138, dtype: period[M]"
      ]
     },
     "execution_count": 240,
     "metadata": {},
     "output_type": "execute_result"
    }
   ],
   "source": [
    "df['Review Date'].unique()"
   ]
  },
  {
   "cell_type": "code",
   "execution_count": 241,
   "id": "b90bb449-97a0-458a-89a7-f3265d5a4b27",
   "metadata": {},
   "outputs": [
    {
     "data": {
      "text/plain": [
       "Sentiment\n",
       "Positive    1234\n",
       "Negative     255\n",
       "Name: count, dtype: int64"
      ]
     },
     "execution_count": 241,
     "metadata": {},
     "output_type": "execute_result"
    }
   ],
   "source": [
    "df['Sentiment'].value_counts()"
   ]
  },
  {
   "cell_type": "code",
   "execution_count": 242,
   "id": "21c063f5-fc9e-4cd7-97ef-068bfdc5cf5e",
   "metadata": {},
   "outputs": [
    {
     "data": {
      "text/plain": [
       "Restaurant Name\n",
       "The Frog at Bercy Village                512\n",
       "Ad Hoc Ristorante (Piazza del Popolo)    318\n",
       "The LOFT                                 210\n",
       "Old Square (Plaza Vieja)                 136\n",
       "Stara Kamienica                          135\n",
       "Pelmenya                                  97\n",
       "Mosaic                                    81\n",
       "Name: count, dtype: int64"
      ]
     },
     "execution_count": 242,
     "metadata": {},
     "output_type": "execute_result"
    }
   ],
   "source": [
    "df['Restaurant Name'].value_counts()"
   ]
  },
  {
   "cell_type": "code",
   "execution_count": null,
   "id": "20816ce6-8aed-41a4-ad3a-c45127ba801e",
   "metadata": {},
   "outputs": [],
   "source": []
  },
  {
   "cell_type": "markdown",
   "id": "01a55576-cd3c-4451-b5c8-6a51356a7386",
   "metadata": {},
   "source": [
    "### Problem 2. Getting acquainted with reviews (1 point)\n",
    "Are positive comments typically shorter or longer? Try to define a good, robust metric for \"length\" of a text; it's not necessary just the character count. Can you explain your findings?"
   ]
  },
  {
   "cell_type": "code",
   "execution_count": null,
   "id": "d0961eb1-f8f1-4e75-80d2-fb4cdb49a802",
   "metadata": {},
   "outputs": [],
   "source": []
  },
  {
   "cell_type": "markdown",
   "id": "7c440fff-c079-464c-b97d-fffbf3d65baf",
   "metadata": {},
   "source": [
    "### Problem 3. Preprocess the review content (2 points)\n",
    "You'll likely need to do this while working on the problems below, but try to synthesize (and document!) your preprocessing here. Your tasks will revolve around words and their connection to sentiment. While preprocessing, keep in mind the domain (restaurant reviews) and the task (sentiment analysis)."
   ]
  },
  {
   "cell_type": "code",
   "execution_count": null,
   "id": "7114fcf9-c63a-41b2-9ff9-591a15d2ebe5",
   "metadata": {},
   "outputs": [],
   "source": []
  },
  {
   "cell_type": "markdown",
   "id": "2a8532af-2411-4d71-a003-0813be3f98de",
   "metadata": {},
   "source": [
    "### Problem 3. Top words (1 point)\n",
    "Use a simple word tokenization and count the top 10 words in positive reviews; then the top 10 words in negative reviews*. Once again, try to define what \"top\" words means. Describe and document your process. Explain your results.\n",
    "\n",
    "\\* Okay, you may want to see top N words (with $N \\ge 10$)."
   ]
  },
  {
   "cell_type": "code",
   "execution_count": null,
   "id": "faaa6dd4-251e-4e32-9137-cc6c984726be",
   "metadata": {},
   "outputs": [],
   "source": []
  },
  {
   "cell_type": "markdown",
   "id": "790ae91f-2def-41bc-8861-49fc5467b335",
   "metadata": {},
   "source": [
    "### Problem 4. Review titles (2 point)\n",
    "How do the top words you found in the last problem correlate to the review titles? Do the top 10 words (for each sentiment) appear in the titles at all? Do reviews which contain one or more of the top words have the same words in their titles?\n",
    "\n",
    "Does the title of a comment present a good summary of its content? That is, are the titles descriptive, or are they simply meant to catch the attention of the reader?"
   ]
  },
  {
   "cell_type": "code",
   "execution_count": null,
   "id": "330b83f1-060e-47ae-8035-0b8372eed8d9",
   "metadata": {},
   "outputs": [],
   "source": []
  },
  {
   "cell_type": "markdown",
   "id": "a3a0aa94-23e4-4db1-a780-cd1bd3abb411",
   "metadata": {},
   "source": [
    "### Problem 5. Bag of words (1 point)\n",
    "Based on your findings so far, come up with a good set of settings (hyperparameters) for a bag-of-words model for review titles and contents. It's easiest to treat them separately (so, create two models); but you may also think about a unified representation. I find the simplest way of concatenating the title and content too simplistic to be useful, as it doesn't allow you to treat the title differently (e.g., by giving it more weight).\n",
    "\n",
    "The documentation for `CountVectorizer` is [here](https://scikit-learn.org/stable/modules/generated/sklearn.feature_extraction.text.CountVectorizer.html). Familiarize yourself with all settings; try out different combinations and come up with a final model; or rather - two models :)."
   ]
  },
  {
   "cell_type": "code",
   "execution_count": null,
   "id": "2ce7892f-cb37-48d3-83fc-0ccb56c2bb1a",
   "metadata": {},
   "outputs": [],
   "source": []
  },
  {
   "cell_type": "markdown",
   "id": "a337ce0f-2afe-422f-8e9d-beddd5635093",
   "metadata": {},
   "source": [
    "### Problem 6. Deep sentiment analysis models (1 point)\n",
    "Find a suitable model for sentiment analysis in English. Without modifying, training, or fine-tuning the model, make it predict all contents (or better, combinations of titles and contents, if you can). Meaure the accuracy of the model compared to the `sentiment` column in the dataset."
   ]
  },
  {
   "cell_type": "code",
   "execution_count": null,
   "id": "9292c210-ec5f-4738-8a6e-926345952848",
   "metadata": {},
   "outputs": [],
   "source": []
  },
  {
   "cell_type": "markdown",
   "id": "773d804d-9c83-48ec-be2b-8564d73d908c",
   "metadata": {},
   "source": [
    "### Problem 7. Deep features (embeddings) (1 point)\n",
    "Use the same model to perform feature extraction on the review contents (or contents + titles) instead of direct predictions. You should already be familiar how to do that from your work on images.\n",
    "\n",
    "Use the cosine similarity between texts to try to cluster them. Are there \"similar\" reviews (you'll need to find a way to measure similarity) across different restaurants? Are customers generally in agreement for the same restaurant?"
   ]
  },
  {
   "cell_type": "code",
   "execution_count": null,
   "id": "f732c764-2ef0-4da2-a662-f8cd7b684245",
   "metadata": {},
   "outputs": [],
   "source": []
  },
  {
   "cell_type": "markdown",
   "id": "c79a585f-1dad-469a-a2ae-31d3981b9e1b",
   "metadata": {},
   "source": [
    "### \\* Problem 8. Explore and model at will\n",
    "In this lab, we focused on preprocessing and feature extraction and we didn't really have a chance to train (or compare) models. The dataset is maybe too small to be conclusive, but feel free to play around with ready-made models, and train your own."
   ]
  },
  {
   "cell_type": "code",
   "execution_count": null,
   "id": "a1e90732-4d96-4692-8588-b9429430a98b",
   "metadata": {},
   "outputs": [],
   "source": []
  }
 ],
 "metadata": {
  "kernelspec": {
   "display_name": "Python 3 (ipykernel)",
   "language": "python",
   "name": "python3"
  },
  "language_info": {
   "codemirror_mode": {
    "name": "ipython",
    "version": 3
   },
   "file_extension": ".py",
   "mimetype": "text/x-python",
   "name": "python",
   "nbconvert_exporter": "python",
   "pygments_lexer": "ipython3",
   "version": "3.9.13"
  }
 },
 "nbformat": 4,
 "nbformat_minor": 5
}
