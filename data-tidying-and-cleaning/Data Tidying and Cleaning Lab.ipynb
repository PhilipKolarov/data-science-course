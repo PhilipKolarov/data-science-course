{
 "cells": [
  {
   "cell_type": "code",
   "execution_count": 158,
   "id": "078d90d4-aec6-40fe-997f-ce63c962d936",
   "metadata": {},
   "outputs": [],
   "source": [
    "# Write your imports here\n",
    "import numpy as np\n",
    "import pandas as pd\n",
    "import matplotlib.pyplot as plt"
   ]
  },
  {
   "cell_type": "markdown",
   "id": "02aa71be-5d01-4efc-85fa-a019fe92a39a",
   "metadata": {},
   "source": [
    "# Data Tidying and Cleaning Lab\n",
    "## Reading, tidying and cleaning data. Preparing data for exploration, mining, analysis and learning"
   ]
  },
  {
   "cell_type": "markdown",
   "id": "259927d3-4ad5-471e-b34b-114f07127a39",
   "metadata": {},
   "source": [
    "In this lab, you'll be working with the Coffee Quality Index dataset, located [here](https://www.kaggle.com/datasets/volpatto/coffee-quality-database-from-cqi). For convenience (and to save trouble in case you can't download files, or someone uploads a newer version), I've provided the dataset in the `data/` folder. The metadata (description) is at the Kaggle link. For this lab, you'll only need `merged_data_cleaned.csv`, as it is the concatenation of the other two datasets.\n",
    "\n",
    "In this (and the following labs), you'll get several questions and problems. Do your analysis, describe it, use any tools and plots you wish, and answer. You can create any amount of cells you'd like.\n",
    "\n",
    "Sometimes, the answers will not be unique, and they will depend on how you decide to approach and solve the problem. This is usual - we're doing science after all!\n",
    "\n",
    "It's a good idea to save your clean dataset after all the work you've done to it."
   ]
  },
  {
   "cell_type": "markdown",
   "id": "4450ac8e-523c-46f8-a410-9ad5af4cfc14",
   "metadata": {},
   "source": [
    "### Problem 1. Read the dataset (1 point)\n",
    "This should be self-explanatory. The first column is the index."
   ]
  },
  {
   "cell_type": "code",
   "execution_count": 159,
   "id": "df50bd71-ea2a-4db9-814d-c49f782ca101",
   "metadata": {},
   "outputs": [],
   "source": [
    "coffee_data = pd.read_csv(\"data/merged_data_cleaned.csv\")"
   ]
  },
  {
   "cell_type": "code",
   "execution_count": 160,
   "id": "ec63f780-f0ae-42fe-8b6d-99275df94e7a",
   "metadata": {},
   "outputs": [
    {
     "data": {
      "text/html": [
       "<div>\n",
       "<style scoped>\n",
       "    .dataframe tbody tr th:only-of-type {\n",
       "        vertical-align: middle;\n",
       "    }\n",
       "\n",
       "    .dataframe tbody tr th {\n",
       "        vertical-align: top;\n",
       "    }\n",
       "\n",
       "    .dataframe thead th {\n",
       "        text-align: right;\n",
       "    }\n",
       "</style>\n",
       "<table border=\"1\" class=\"dataframe\">\n",
       "  <thead>\n",
       "    <tr style=\"text-align: right;\">\n",
       "      <th></th>\n",
       "      <th>Unnamed: 0</th>\n",
       "      <th>Species</th>\n",
       "      <th>Owner</th>\n",
       "      <th>Country.of.Origin</th>\n",
       "      <th>Farm.Name</th>\n",
       "      <th>Lot.Number</th>\n",
       "      <th>Mill</th>\n",
       "      <th>ICO.Number</th>\n",
       "      <th>Company</th>\n",
       "      <th>Altitude</th>\n",
       "      <th>...</th>\n",
       "      <th>Color</th>\n",
       "      <th>Category.Two.Defects</th>\n",
       "      <th>Expiration</th>\n",
       "      <th>Certification.Body</th>\n",
       "      <th>Certification.Address</th>\n",
       "      <th>Certification.Contact</th>\n",
       "      <th>unit_of_measurement</th>\n",
       "      <th>altitude_low_meters</th>\n",
       "      <th>altitude_high_meters</th>\n",
       "      <th>altitude_mean_meters</th>\n",
       "    </tr>\n",
       "  </thead>\n",
       "  <tbody>\n",
       "    <tr>\n",
       "      <th>0</th>\n",
       "      <td>0</td>\n",
       "      <td>Arabica</td>\n",
       "      <td>metad plc</td>\n",
       "      <td>Ethiopia</td>\n",
       "      <td>metad plc</td>\n",
       "      <td>NaN</td>\n",
       "      <td>metad plc</td>\n",
       "      <td>2014/2015</td>\n",
       "      <td>metad agricultural developmet plc</td>\n",
       "      <td>1950-2200</td>\n",
       "      <td>...</td>\n",
       "      <td>Green</td>\n",
       "      <td>0</td>\n",
       "      <td>April 3rd, 2016</td>\n",
       "      <td>METAD Agricultural Development plc</td>\n",
       "      <td>309fcf77415a3661ae83e027f7e5f05dad786e44</td>\n",
       "      <td>19fef5a731de2db57d16da10287413f5f99bc2dd</td>\n",
       "      <td>m</td>\n",
       "      <td>1950.0</td>\n",
       "      <td>2200.0</td>\n",
       "      <td>2075.0</td>\n",
       "    </tr>\n",
       "    <tr>\n",
       "      <th>1</th>\n",
       "      <td>1</td>\n",
       "      <td>Arabica</td>\n",
       "      <td>metad plc</td>\n",
       "      <td>Ethiopia</td>\n",
       "      <td>metad plc</td>\n",
       "      <td>NaN</td>\n",
       "      <td>metad plc</td>\n",
       "      <td>2014/2015</td>\n",
       "      <td>metad agricultural developmet plc</td>\n",
       "      <td>1950-2200</td>\n",
       "      <td>...</td>\n",
       "      <td>Green</td>\n",
       "      <td>1</td>\n",
       "      <td>April 3rd, 2016</td>\n",
       "      <td>METAD Agricultural Development plc</td>\n",
       "      <td>309fcf77415a3661ae83e027f7e5f05dad786e44</td>\n",
       "      <td>19fef5a731de2db57d16da10287413f5f99bc2dd</td>\n",
       "      <td>m</td>\n",
       "      <td>1950.0</td>\n",
       "      <td>2200.0</td>\n",
       "      <td>2075.0</td>\n",
       "    </tr>\n",
       "    <tr>\n",
       "      <th>2</th>\n",
       "      <td>2</td>\n",
       "      <td>Arabica</td>\n",
       "      <td>grounds for health admin</td>\n",
       "      <td>Guatemala</td>\n",
       "      <td>san marcos barrancas \"san cristobal cuch</td>\n",
       "      <td>NaN</td>\n",
       "      <td>NaN</td>\n",
       "      <td>NaN</td>\n",
       "      <td>NaN</td>\n",
       "      <td>1600 - 1800 m</td>\n",
       "      <td>...</td>\n",
       "      <td>NaN</td>\n",
       "      <td>0</td>\n",
       "      <td>May 31st, 2011</td>\n",
       "      <td>Specialty Coffee Association</td>\n",
       "      <td>36d0d00a3724338ba7937c52a378d085f2172daa</td>\n",
       "      <td>0878a7d4b9d35ddbf0fe2ce69a2062cceb45a660</td>\n",
       "      <td>m</td>\n",
       "      <td>1600.0</td>\n",
       "      <td>1800.0</td>\n",
       "      <td>1700.0</td>\n",
       "    </tr>\n",
       "    <tr>\n",
       "      <th>3</th>\n",
       "      <td>3</td>\n",
       "      <td>Arabica</td>\n",
       "      <td>yidnekachew dabessa</td>\n",
       "      <td>Ethiopia</td>\n",
       "      <td>yidnekachew dabessa coffee plantation</td>\n",
       "      <td>NaN</td>\n",
       "      <td>wolensu</td>\n",
       "      <td>NaN</td>\n",
       "      <td>yidnekachew debessa coffee plantation</td>\n",
       "      <td>1800-2200</td>\n",
       "      <td>...</td>\n",
       "      <td>Green</td>\n",
       "      <td>2</td>\n",
       "      <td>March 25th, 2016</td>\n",
       "      <td>METAD Agricultural Development plc</td>\n",
       "      <td>309fcf77415a3661ae83e027f7e5f05dad786e44</td>\n",
       "      <td>19fef5a731de2db57d16da10287413f5f99bc2dd</td>\n",
       "      <td>m</td>\n",
       "      <td>1800.0</td>\n",
       "      <td>2200.0</td>\n",
       "      <td>2000.0</td>\n",
       "    </tr>\n",
       "    <tr>\n",
       "      <th>4</th>\n",
       "      <td>4</td>\n",
       "      <td>Arabica</td>\n",
       "      <td>metad plc</td>\n",
       "      <td>Ethiopia</td>\n",
       "      <td>metad plc</td>\n",
       "      <td>NaN</td>\n",
       "      <td>metad plc</td>\n",
       "      <td>2014/2015</td>\n",
       "      <td>metad agricultural developmet plc</td>\n",
       "      <td>1950-2200</td>\n",
       "      <td>...</td>\n",
       "      <td>Green</td>\n",
       "      <td>2</td>\n",
       "      <td>April 3rd, 2016</td>\n",
       "      <td>METAD Agricultural Development plc</td>\n",
       "      <td>309fcf77415a3661ae83e027f7e5f05dad786e44</td>\n",
       "      <td>19fef5a731de2db57d16da10287413f5f99bc2dd</td>\n",
       "      <td>m</td>\n",
       "      <td>1950.0</td>\n",
       "      <td>2200.0</td>\n",
       "      <td>2075.0</td>\n",
       "    </tr>\n",
       "    <tr>\n",
       "      <th>...</th>\n",
       "      <td>...</td>\n",
       "      <td>...</td>\n",
       "      <td>...</td>\n",
       "      <td>...</td>\n",
       "      <td>...</td>\n",
       "      <td>...</td>\n",
       "      <td>...</td>\n",
       "      <td>...</td>\n",
       "      <td>...</td>\n",
       "      <td>...</td>\n",
       "      <td>...</td>\n",
       "      <td>...</td>\n",
       "      <td>...</td>\n",
       "      <td>...</td>\n",
       "      <td>...</td>\n",
       "      <td>...</td>\n",
       "      <td>...</td>\n",
       "      <td>...</td>\n",
       "      <td>...</td>\n",
       "      <td>...</td>\n",
       "      <td>...</td>\n",
       "    </tr>\n",
       "    <tr>\n",
       "      <th>1334</th>\n",
       "      <td>1334</td>\n",
       "      <td>Robusta</td>\n",
       "      <td>luis robles</td>\n",
       "      <td>Ecuador</td>\n",
       "      <td>robustasa</td>\n",
       "      <td>Lavado 1</td>\n",
       "      <td>our own lab</td>\n",
       "      <td>NaN</td>\n",
       "      <td>robustasa</td>\n",
       "      <td>NaN</td>\n",
       "      <td>...</td>\n",
       "      <td>Blue-Green</td>\n",
       "      <td>1</td>\n",
       "      <td>January 18th, 2017</td>\n",
       "      <td>Specialty Coffee Association</td>\n",
       "      <td>ff7c18ad303d4b603ac3f8cff7e611ffc735e720</td>\n",
       "      <td>352d0cf7f3e9be14dad7df644ad65efc27605ae2</td>\n",
       "      <td>m</td>\n",
       "      <td>NaN</td>\n",
       "      <td>NaN</td>\n",
       "      <td>NaN</td>\n",
       "    </tr>\n",
       "    <tr>\n",
       "      <th>1335</th>\n",
       "      <td>1335</td>\n",
       "      <td>Robusta</td>\n",
       "      <td>luis robles</td>\n",
       "      <td>Ecuador</td>\n",
       "      <td>robustasa</td>\n",
       "      <td>Lavado 3</td>\n",
       "      <td>own laboratory</td>\n",
       "      <td>NaN</td>\n",
       "      <td>robustasa</td>\n",
       "      <td>40</td>\n",
       "      <td>...</td>\n",
       "      <td>Blue-Green</td>\n",
       "      <td>0</td>\n",
       "      <td>January 18th, 2017</td>\n",
       "      <td>Specialty Coffee Association</td>\n",
       "      <td>ff7c18ad303d4b603ac3f8cff7e611ffc735e720</td>\n",
       "      <td>352d0cf7f3e9be14dad7df644ad65efc27605ae2</td>\n",
       "      <td>m</td>\n",
       "      <td>40.0</td>\n",
       "      <td>40.0</td>\n",
       "      <td>40.0</td>\n",
       "    </tr>\n",
       "    <tr>\n",
       "      <th>1336</th>\n",
       "      <td>1336</td>\n",
       "      <td>Robusta</td>\n",
       "      <td>james moore</td>\n",
       "      <td>United States</td>\n",
       "      <td>fazenda cazengo</td>\n",
       "      <td>NaN</td>\n",
       "      <td>cafe cazengo</td>\n",
       "      <td>NaN</td>\n",
       "      <td>global opportunity fund</td>\n",
       "      <td>795 meters</td>\n",
       "      <td>...</td>\n",
       "      <td>NaN</td>\n",
       "      <td>6</td>\n",
       "      <td>December 23rd, 2015</td>\n",
       "      <td>Specialty Coffee Association</td>\n",
       "      <td>ff7c18ad303d4b603ac3f8cff7e611ffc735e720</td>\n",
       "      <td>352d0cf7f3e9be14dad7df644ad65efc27605ae2</td>\n",
       "      <td>m</td>\n",
       "      <td>795.0</td>\n",
       "      <td>795.0</td>\n",
       "      <td>795.0</td>\n",
       "    </tr>\n",
       "    <tr>\n",
       "      <th>1337</th>\n",
       "      <td>1337</td>\n",
       "      <td>Robusta</td>\n",
       "      <td>cafe politico</td>\n",
       "      <td>India</td>\n",
       "      <td>NaN</td>\n",
       "      <td>NaN</td>\n",
       "      <td>NaN</td>\n",
       "      <td>14-1118-2014-0087</td>\n",
       "      <td>cafe politico</td>\n",
       "      <td>NaN</td>\n",
       "      <td>...</td>\n",
       "      <td>Green</td>\n",
       "      <td>1</td>\n",
       "      <td>August 25th, 2015</td>\n",
       "      <td>Specialty Coffee Association</td>\n",
       "      <td>ff7c18ad303d4b603ac3f8cff7e611ffc735e720</td>\n",
       "      <td>352d0cf7f3e9be14dad7df644ad65efc27605ae2</td>\n",
       "      <td>m</td>\n",
       "      <td>NaN</td>\n",
       "      <td>NaN</td>\n",
       "      <td>NaN</td>\n",
       "    </tr>\n",
       "    <tr>\n",
       "      <th>1338</th>\n",
       "      <td>1338</td>\n",
       "      <td>Robusta</td>\n",
       "      <td>cafe politico</td>\n",
       "      <td>Vietnam</td>\n",
       "      <td>NaN</td>\n",
       "      <td>NaN</td>\n",
       "      <td>NaN</td>\n",
       "      <td>NaN</td>\n",
       "      <td>cafe politico</td>\n",
       "      <td>NaN</td>\n",
       "      <td>...</td>\n",
       "      <td>NaN</td>\n",
       "      <td>9</td>\n",
       "      <td>August 25th, 2015</td>\n",
       "      <td>Specialty Coffee Association</td>\n",
       "      <td>ff7c18ad303d4b603ac3f8cff7e611ffc735e720</td>\n",
       "      <td>352d0cf7f3e9be14dad7df644ad65efc27605ae2</td>\n",
       "      <td>m</td>\n",
       "      <td>NaN</td>\n",
       "      <td>NaN</td>\n",
       "      <td>NaN</td>\n",
       "    </tr>\n",
       "  </tbody>\n",
       "</table>\n",
       "<p>1339 rows × 44 columns</p>\n",
       "</div>"
      ],
      "text/plain": [
       "      Unnamed: 0  Species                     Owner Country.of.Origin  \\\n",
       "0              0  Arabica                 metad plc          Ethiopia   \n",
       "1              1  Arabica                 metad plc          Ethiopia   \n",
       "2              2  Arabica  grounds for health admin         Guatemala   \n",
       "3              3  Arabica       yidnekachew dabessa          Ethiopia   \n",
       "4              4  Arabica                 metad plc          Ethiopia   \n",
       "...          ...      ...                       ...               ...   \n",
       "1334        1334  Robusta               luis robles           Ecuador   \n",
       "1335        1335  Robusta               luis robles           Ecuador   \n",
       "1336        1336  Robusta               james moore     United States   \n",
       "1337        1337  Robusta             cafe politico             India   \n",
       "1338        1338  Robusta             cafe politico           Vietnam   \n",
       "\n",
       "                                     Farm.Name Lot.Number            Mill  \\\n",
       "0                                    metad plc        NaN       metad plc   \n",
       "1                                    metad plc        NaN       metad plc   \n",
       "2     san marcos barrancas \"san cristobal cuch        NaN             NaN   \n",
       "3        yidnekachew dabessa coffee plantation        NaN         wolensu   \n",
       "4                                    metad plc        NaN       metad plc   \n",
       "...                                        ...        ...             ...   \n",
       "1334                                 robustasa   Lavado 1     our own lab   \n",
       "1335                                 robustasa   Lavado 3  own laboratory   \n",
       "1336                           fazenda cazengo        NaN    cafe cazengo   \n",
       "1337                                       NaN        NaN             NaN   \n",
       "1338                                       NaN        NaN             NaN   \n",
       "\n",
       "             ICO.Number                                Company       Altitude  \\\n",
       "0             2014/2015      metad agricultural developmet plc      1950-2200   \n",
       "1             2014/2015      metad agricultural developmet plc      1950-2200   \n",
       "2                   NaN                                    NaN  1600 - 1800 m   \n",
       "3                   NaN  yidnekachew debessa coffee plantation      1800-2200   \n",
       "4             2014/2015      metad agricultural developmet plc      1950-2200   \n",
       "...                 ...                                    ...            ...   \n",
       "1334                NaN                              robustasa            NaN   \n",
       "1335                NaN                              robustasa             40   \n",
       "1336                NaN                global opportunity fund     795 meters   \n",
       "1337  14-1118-2014-0087                          cafe politico            NaN   \n",
       "1338                NaN                          cafe politico            NaN   \n",
       "\n",
       "      ...       Color Category.Two.Defects           Expiration  \\\n",
       "0     ...       Green                    0      April 3rd, 2016   \n",
       "1     ...       Green                    1      April 3rd, 2016   \n",
       "2     ...         NaN                    0       May 31st, 2011   \n",
       "3     ...       Green                    2     March 25th, 2016   \n",
       "4     ...       Green                    2      April 3rd, 2016   \n",
       "...   ...         ...                  ...                  ...   \n",
       "1334  ...  Blue-Green                    1   January 18th, 2017   \n",
       "1335  ...  Blue-Green                    0   January 18th, 2017   \n",
       "1336  ...         NaN                    6  December 23rd, 2015   \n",
       "1337  ...       Green                    1    August 25th, 2015   \n",
       "1338  ...         NaN                    9    August 25th, 2015   \n",
       "\n",
       "                      Certification.Body  \\\n",
       "0     METAD Agricultural Development plc   \n",
       "1     METAD Agricultural Development plc   \n",
       "2           Specialty Coffee Association   \n",
       "3     METAD Agricultural Development plc   \n",
       "4     METAD Agricultural Development plc   \n",
       "...                                  ...   \n",
       "1334        Specialty Coffee Association   \n",
       "1335        Specialty Coffee Association   \n",
       "1336        Specialty Coffee Association   \n",
       "1337        Specialty Coffee Association   \n",
       "1338        Specialty Coffee Association   \n",
       "\n",
       "                         Certification.Address  \\\n",
       "0     309fcf77415a3661ae83e027f7e5f05dad786e44   \n",
       "1     309fcf77415a3661ae83e027f7e5f05dad786e44   \n",
       "2     36d0d00a3724338ba7937c52a378d085f2172daa   \n",
       "3     309fcf77415a3661ae83e027f7e5f05dad786e44   \n",
       "4     309fcf77415a3661ae83e027f7e5f05dad786e44   \n",
       "...                                        ...   \n",
       "1334  ff7c18ad303d4b603ac3f8cff7e611ffc735e720   \n",
       "1335  ff7c18ad303d4b603ac3f8cff7e611ffc735e720   \n",
       "1336  ff7c18ad303d4b603ac3f8cff7e611ffc735e720   \n",
       "1337  ff7c18ad303d4b603ac3f8cff7e611ffc735e720   \n",
       "1338  ff7c18ad303d4b603ac3f8cff7e611ffc735e720   \n",
       "\n",
       "                         Certification.Contact unit_of_measurement  \\\n",
       "0     19fef5a731de2db57d16da10287413f5f99bc2dd                   m   \n",
       "1     19fef5a731de2db57d16da10287413f5f99bc2dd                   m   \n",
       "2     0878a7d4b9d35ddbf0fe2ce69a2062cceb45a660                   m   \n",
       "3     19fef5a731de2db57d16da10287413f5f99bc2dd                   m   \n",
       "4     19fef5a731de2db57d16da10287413f5f99bc2dd                   m   \n",
       "...                                        ...                 ...   \n",
       "1334  352d0cf7f3e9be14dad7df644ad65efc27605ae2                   m   \n",
       "1335  352d0cf7f3e9be14dad7df644ad65efc27605ae2                   m   \n",
       "1336  352d0cf7f3e9be14dad7df644ad65efc27605ae2                   m   \n",
       "1337  352d0cf7f3e9be14dad7df644ad65efc27605ae2                   m   \n",
       "1338  352d0cf7f3e9be14dad7df644ad65efc27605ae2                   m   \n",
       "\n",
       "     altitude_low_meters altitude_high_meters altitude_mean_meters  \n",
       "0                 1950.0               2200.0               2075.0  \n",
       "1                 1950.0               2200.0               2075.0  \n",
       "2                 1600.0               1800.0               1700.0  \n",
       "3                 1800.0               2200.0               2000.0  \n",
       "4                 1950.0               2200.0               2075.0  \n",
       "...                  ...                  ...                  ...  \n",
       "1334                 NaN                  NaN                  NaN  \n",
       "1335                40.0                 40.0                 40.0  \n",
       "1336               795.0                795.0                795.0  \n",
       "1337                 NaN                  NaN                  NaN  \n",
       "1338                 NaN                  NaN                  NaN  \n",
       "\n",
       "[1339 rows x 44 columns]"
      ]
     },
     "execution_count": 160,
     "metadata": {},
     "output_type": "execute_result"
    }
   ],
   "source": [
    "coffee_data"
   ]
  },
  {
   "cell_type": "markdown",
   "id": "b278e2a8-56b4-4b1a-ad71-e7b920321e37",
   "metadata": {},
   "source": [
    "### Problem 2. Observations and features (1 point)\n",
    "How many observations are there? How many features? Which features are numerical, and which are categorical?\n",
    "\n",
    "**Note:** Think about the _meaning_, not the data types. The dataset hasn't been thoroughly cleaned."
   ]
  },
  {
   "cell_type": "code",
   "execution_count": 161,
   "id": "e7d17c46-5475-4c33-9c35-b7cf56ac41c3",
   "metadata": {},
   "outputs": [
    {
     "data": {
      "text/plain": [
       "(1339, 44)"
      ]
     },
     "execution_count": 161,
     "metadata": {},
     "output_type": "execute_result"
    }
   ],
   "source": [
    "coffee_data.shape"
   ]
  },
  {
   "cell_type": "code",
   "execution_count": 162,
   "id": "e3e78d96-74f3-4807-b7e0-478433701fdc",
   "metadata": {},
   "outputs": [
    {
     "data": {
      "text/plain": [
       "Index(['Unnamed: 0', 'Species', 'Owner', 'Country.of.Origin', 'Farm.Name',\n",
       "       'Lot.Number', 'Mill', 'ICO.Number', 'Company', 'Altitude', 'Region',\n",
       "       'Producer', 'Number.of.Bags', 'Bag.Weight', 'In.Country.Partner',\n",
       "       'Harvest.Year', 'Grading.Date', 'Owner.1', 'Variety',\n",
       "       'Processing.Method', 'Aroma', 'Flavor', 'Aftertaste', 'Acidity', 'Body',\n",
       "       'Balance', 'Uniformity', 'Clean.Cup', 'Sweetness', 'Cupper.Points',\n",
       "       'Total.Cup.Points', 'Moisture', 'Category.One.Defects', 'Quakers',\n",
       "       'Color', 'Category.Two.Defects', 'Expiration', 'Certification.Body',\n",
       "       'Certification.Address', 'Certification.Contact', 'unit_of_measurement',\n",
       "       'altitude_low_meters', 'altitude_high_meters', 'altitude_mean_meters'],\n",
       "      dtype='object')"
      ]
     },
     "execution_count": 162,
     "metadata": {},
     "output_type": "execute_result"
    }
   ],
   "source": [
    "coffee_data.columns"
   ]
  },
  {
   "cell_type": "markdown",
   "id": "2b745e68-35eb-4acb-b39f-513137f0ee4b",
   "metadata": {},
   "source": [
    "### Problem 3. Column manipulation (1 point)\n",
    "Make the column names more Pythonic (which helps with the quality and... aesthetics). Convert column names to `snake_case`, i.e. `species`, `country_of_origin`, `ico_number`, etc. Try to not do it manually."
   ]
  },
  {
   "cell_type": "code",
   "execution_count": 163,
   "id": "301e9f3f-afd6-4a91-a32f-1974584694ca",
   "metadata": {},
   "outputs": [
    {
     "data": {
      "text/plain": [
       "Index(['index', 'species', 'owner', 'country_of_origin', 'farm_name',\n",
       "       'lot_number', 'mill', 'ico_number', 'company', 'altitude', 'region',\n",
       "       'producer', 'number_of_bags', 'bag_weight', 'in_country_partner',\n",
       "       'harvest_year', 'grading_date', 'owner_1', 'variety',\n",
       "       'processing_method', 'aroma', 'flavor', 'aftertaste', 'acidity', 'body',\n",
       "       'balance', 'uniformity', 'clean_cup', 'sweetness', 'cupper_points',\n",
       "       'total_cup_points', 'moisture', 'category_one_defects', 'quakers',\n",
       "       'color', 'category_two_defects', 'expiration', 'certification_body',\n",
       "       'certification_address', 'certification_contact', 'unit_of_measurement',\n",
       "       'altitude_low_meters', 'altitude_high_meters', 'altitude_mean_meters'],\n",
       "      dtype='object')"
      ]
     },
     "execution_count": 163,
     "metadata": {},
     "output_type": "execute_result"
    }
   ],
   "source": [
    "coffee_data.rename(columns={\"Unnamed: 0\": \"index\"}, inplace=True)\n",
    "new_column_names = []\n",
    "\n",
    "for name in coffee_data.columns:\n",
    "    new_name = name.replace(\".\", \"_\").lower()\n",
    "    new_column_names.append(new_name)\n",
    "\n",
    "coffee_data.columns = new_column_names\n",
    "\n",
    "coffee_data.columns"
   ]
  },
  {
   "cell_type": "markdown",
   "id": "8c53c4c6-6eb9-4c92-bd39-89286fe4c86e",
   "metadata": {},
   "source": [
    "### Problem 4. Bag weight (1 point)\n",
    "What's up with the bag weights? Make all necessary changes to the column values. Don't forget to document your methods and assumptions."
   ]
  },
  {
   "cell_type": "code",
   "execution_count": 164,
   "id": "8e97f3d0-1223-49a7-99a9-51a65e4ff4e0",
   "metadata": {},
   "outputs": [
    {
     "data": {
      "text/plain": [
       "'0          60 kg\\n1          60 kg\\n2              1\\n3          60 kg\\n4          60 kg\\n5          30 kg\\n6          69 kg\\n7          60 kg\\n8          60 kg\\n9          60 kg\\n10         60 kg\\n11          1 kg\\n12          1 kg\\n13             1\\n14         60 kg\\n15          1 kg\\n16      2 kg,lbs\\n17             6\\n18         60 kg\\n19         60 kg\\n20          1 kg\\n21         3 lbs\\n22          1 kg\\n23          1 kg\\n24         60 kg\\n25         60 kg\\n26             6\\n27         60 kg\\n28         69 kg\\n29         50 kg\\n30             6\\n31         60 kg\\n32         60 kg\\n33         2 lbs\\n34         60 kg\\n35          1 kg\\n36       100 lbs\\n37       100 lbs\\n38             6\\n39          1 kg\\n40          1 kg\\n41         60 kg\\n42         60 kg\\n43         15 kg\\n44         60 kg\\n45         60 kg\\n46         60 kg\\n47          2 kg\\n48          1 kg\\n49         60 kg\\n50             6\\n51             2\\n52         69 kg\\n53         60 kg\\n54         70 kg\\n55         60 kg\\n56         60 kg\\n57          1 kg\\n58          1 kg\\n59      19200 kg\\n60         5 lbs\\n61         60 kg\\n62          2 kg\\n63          1 kg\\n64       100 lbs\\n65         60 kg\\n66         60 kg\\n67         60 kg\\n68         60 kg\\n69         69 kg\\n70         60 kg\\n71         60 kg\\n72       100 lbs\\n73         60 kg\\n74      1 kg,lbs\\n75         60 kg\\n76         30 kg\\n77         3 lbs\\n78         3 lbs\\n79         60 kg\\n80         60 kg\\n81          6 kg\\n82             6\\n83         69 kg\\n84         70 kg\\n85         70 kg\\n86         60 kg\\n87          1 kg\\n88      19200 kg\\n89         70 kg\\n90         60 kg\\n91       100 lbs\\n92         70 kg\\n93       100 lbs\\n94             6\\n95         0 lbs\\n96         60 kg\\n97         70 kg\\n98         46 kg\\n99         30 kg\\n100        60 kg\\n101        60 kg\\n102        60 kg\\n103         1 kg\\n104      100 lbs\\n105        69 kg\\n106        70 kg\\n107        70 kg\\n108        40 kg\\n109        60 kg\\n110        70 kg\\n111         1 kg\\n112        60 kg\\n113        60 kg\\n114        60 kg\\n115        20 kg\\n116        60 kg\\n117      100 lbs\\n118            6\\n119            6\\n120        50 kg\\n121        60 kg\\n122         1 kg\\n123        69 kg\\n124            6\\n125        69 kg\\n126         1 kg\\n127         1 kg\\n128        69 kg\\n129        34 kg\\n130        1 lbs\\n131        30 kg\\n132        69 kg\\n133         1 kg\\n134         2 kg\\n135        30 kg\\n136        70 kg\\n137        60 kg\\n138         1 kg\\n139         1 kg\\n140         1 kg\\n141        60 kg\\n142        60 kg\\n143            6\\n144        60 kg\\n145        70 kg\\n146        70 kg\\n147        60 kg\\n148        69 kg\\n149        69 kg\\n150        70 kg\\n151        70 kg\\n152       660 kg\\n153        70 kg\\n154         1 kg\\n155        70 kg\\n156        60 kg\\n157        60 kg\\n158     18975 kg\\n159     12000 kg\\n160        60 kg\\n161        1 lbs\\n162         2 kg\\n163         2 kg\\n164        69 kg\\n165        60 kg\\n166         1 kg\\n167         1 kg\\n168        69 kg\\n169        60 kg\\n170        60 kg\\n171        69 kg\\n172        30 kg\\n173        35 kg\\n174        70 kg\\n175         2 kg\\n176      100 lbs\\n177         1 kg\\n178         6 kg\\n179        60 kg\\n180        66 kg\\n181        70 kg\\n182        69 kg\\n183        70 kg\\n184        70 kg\\n185        70 kg\\n186        80 kg\\n187        60 kg\\n188        60 kg\\n189      132 lbs\\n190            1\\n191         5 kg\\n192        25 kg\\n193        70 kg\\n194        69 kg\\n195        69 kg\\n196        60 kg\\n197        70 kg\\n198        70 kg\\n199         2 kg\\n200        70 kg\\n201        60 kg\\n202        60 kg\\n203        69 kg\\n204        70 kg\\n205      100 lbs\\n206         1 kg\\n207         1 kg\\n208         1 kg\\n209        60 kg\\n210        69 kg\\n211        70 kg\\n212        69 kg\\n213        69 kg\\n214        69 kg\\n215        69 kg\\n216        70 kg\\n217         2 kg\\n218        59 kg\\n219        69 kg\\n220        60 kg\\n221        60 kg\\n222         1 kg\\n223        5 lbs\\n224     18000 kg\\n225         2 kg\\n226        69 kg\\n227         2 kg\\n228        70 kg\\n229         1 kg\\n230        60 kg\\n231         2 kg\\n232        70 kg\\n233        20 kg\\n234        69 kg\\n235        70 kg\\n236         2 kg\\n237      100 lbs\\n238         1 kg\\n239        60 kg\\n240      150 lbs\\n241        60 kg\\n242        66 kg\\n243        69 kg\\n244         1 kg\\n245        69 kg\\n246        69 kg\\n247         1 kg\\n248        70 kg\\n249        70 kg\\n250        60 kg\\n251        60 kg\\n252        70 kg\\n253        60 kg\\n254         1 kg\\n255      9000 kg\\n256        60 kg\\n257        60 kg\\n258        60 kg\\n259        69 kg\\n260        40 kg\\n261        60 kg\\n262        50 kg\\n263        70 kg\\n264        70 kg\\n265         2 kg\\n266         2 kg\\n267         2 kg\\n268        70 kg\\n269        60 kg\\n270        70 kg\\n271         1 kg\\n272         1 kg\\n273         1 kg\\n274        70 kg\\n275        70 kg\\n276        69 kg\\n277        69 kg\\n278        30 kg\\n279         2 kg\\n280        18 kg\\n281        60 kg\\n282         2 kg\\n283         1 kg\\n284        69 kg\\n285        60 kg\\n286        5 lbs\\n287        70 kg\\n288        69 kg\\n289         1 kg\\n290         1 kg\\n291         1 kg\\n292        50 kg\\n293        60 kg\\n294            6\\n295        60 kg\\n296        60 kg\\n297        70 kg\\n298        10 kg\\n299        70 kg\\n300        60 kg\\n301        70 kg\\n302        60 kg\\n303        5 lbs\\n304        70 kg\\n305        70 kg\\n306        70 kg\\n307        70 kg\\n308      100 lbs\\n309         1 kg\\n310        3 lbs\\n311        70 kg\\n312        70 kg\\n313            1\\n314        60 kg\\n315        60 kg\\n316        69 kg\\n317        69 kg\\n318        60 kg\\n319        50 kg\\n320        69 kg\\n321         1 kg\\n322        2 lbs\\n323        69 kg\\n324        70 kg\\n325        70 kg\\n326        69 kg\\n327        69 kg\\n328        70 kg\\n329         1 kg\\n330         1 kg\\n331         1 kg\\n332        60 kg\\n333        69 kg\\n334      100 lbs\\n335        60 kg\\n336        69 kg\\n337        70 kg\\n338        60 kg\\n339        70 kg\\n340         2 kg\\n341        60 kg\\n342        60 kg\\n343        70 kg\\n344        70 kg\\n345        70 kg\\n346        30 kg\\n347        70 kg\\n348         1 kg\\n349        70 kg\\n350        60 kg\\n351        70 kg\\n352        10 kg\\n353        69 kg\\n354        70 kg\\n355        69 kg\\n356        70 kg\\n357        60 kg\\n358        30 kg\\n359        60 kg\\n360         2 kg\\n361        70 kg\\n362         1 kg\\n363        70 kg\\n364         1 kg\\n365        70 kg\\n366        70 kg\\n367         1 kg\\n368         1 kg\\n369         1 kg\\n370        69 kg\\n371        70 kg\\n372         2 kg\\n373      100 lbs\\n374        60 kg\\n375        29 kg\\n376        69 kg\\n377        29 kg\\n378        69 kg\\n379        10 kg\\n380      1218 kg\\n381        25 kg\\n382        69 kg\\n383        70 kg\\n384        60 kg\\n385        60 kg\\n386        70 kg\\n387        69 kg\\n388        69 kg\\n389        69 kg\\n390      100 lbs\\n391        70 kg\\n392        70 kg\\n393        60 kg\\n394        1 lbs\\n395            6\\n396        70 kg\\n397        70 kg\\n398        70 kg\\n399         2 kg\\n400         1 kg\\n401        70 kg\\n402        60 kg\\n403         1 kg\\n404        3 lbs\\n405      100 lbs\\n406         1 kg\\n407        5 lbs\\n408        4 lbs\\n409        70 kg\\n410        69 kg\\n411      100 lbs\\n412        60 kg\\n413        70 kg\\n414      100 lbs\\n415      100 lbs\\n416        50 kg\\n417        46 kg\\n418        69 kg\\n419         0 kg\\n420      9000 kg\\n421        60 kg\\n422        35 kg\\n423         2 kg\\n424        15 kg\\n425        60 kg\\n426        70 kg\\n427        69 kg\\n428        70 kg\\n429         1 kg\\n430      100 lbs\\n431         1 kg\\n432         1 kg\\n433         1 kg\\n434        60 kg\\n435        70 kg\\n436        70 kg\\n437        70 kg\\n438        70 kg\\n439        70 kg\\n440        60 kg\\n441        69 kg\\n442        60 kg\\n443     13800 kg\\n444         2 kg\\n445      1500 kg\\n446        69 kg\\n447        60 kg\\n448        60 kg\\n449        69 kg\\n450        69 kg\\n451        69 kg\\n452         2 kg\\n453         1 kg\\n454        60 kg\\n455        70 kg\\n456        60 kg\\n457        4 lbs\\n458         1 kg\\n459         1 kg\\n460        69 kg\\n461      100 lbs\\n462         1 kg\\n463        69 kg\\n464         1 kg\\n465         1 kg\\n466         1 kg\\n467        70 kg\\n468         1 kg\\n469        70 kg\\n470         1 kg\\n471        60 kg\\n472        60 kg\\n473         2 kg\\n474        60 kg\\n475        60 kg\\n476        69 kg\\n477            6\\n478        70 kg\\n479        70 kg\\n480        60 kg\\n481         2 kg\\n482        60 kg\\n483        60 kg\\n484         2 kg\\n485         1 kg\\n486      100 lbs\\n487        30 kg\\n488      100 lbs\\n489         1 kg\\n490      100 lbs\\n491      100 lbs\\n492        70 kg\\n493        70 kg\\n494        60 kg\\n495        69 kg\\n496        60 kg\\n497        60 kg\\n498        60 kg\\n499        60 kg\\n500        60 kg\\n501        70 kg\\n502         2 kg\\n503        69 kg\\n504        69 kg\\n505        69 kg\\n506         2 kg\\n507        60 kg\\n508        60 kg\\n509        5 lbs\\n510        69 kg\\n511         1 kg\\n512         2 kg\\n513        70 kg\\n514        70 kg\\n515        70 kg\\n516        70 kg\\n517        70 kg\\n518         1 kg\\n519         1 kg\\n520         1 kg\\n521        70 kg\\n522        70 kg\\n523        70 kg\\n524         1 kg\\n525         1 kg\\n526        60 kg\\n527        70 kg\\n528      100 lbs\\n529      100 lbs\\n530        70 kg\\n531            6\\n532        1 lbs\\n533        60 kg\\n534        69 kg\\n535        70 kg\\n536        20 kg\\n537        60 kg\\n538         2 kg\\n539         2 kg\\n540         2 kg\\n541         2 kg\\n542         2 kg\\n543         2 kg\\n544        60 kg\\n545        60 kg\\n546        69 kg\\n547        69 kg\\n548         2 kg\\n549        70 kg\\n550        70 kg\\n551        69 kg\\n552        70 kg\\n553         1 kg\\n554         2 kg\\n555         1 kg\\n556      100 lbs\\n557        70 kg\\n558        1 lbs\\n559        50 kg\\n560        69 kg\\n561        60 kg\\n562        69 kg\\n563        60 kg\\n564         2 kg\\n565        69 kg\\n566        60 kg\\n567        24 kg\\n568        60 kg\\n569        69 kg\\n570         1 kg\\n571        70 kg\\n572         2 kg\\n573         1 kg\\n574         1 kg\\n575         1 kg\\n576         1 kg\\n577        69 kg\\n578        69 kg\\n579        69 kg\\n580        69 kg\\n581        69 kg\\n582        69 kg\\n583         1 kg\\n584        69 kg\\n585        10 kg\\n586        69 kg\\n587        69 kg\\n588        69 kg\\n589        60 kg\\n590        60 kg\\n591        60 kg\\n592        70 kg\\n593        60 kg\\n594        69 kg\\n595         1 kg\\n596       80 lbs\\n597      100 lbs\\n598         1 kg\\n599         1 kg\\n600         1 kg\\n601         1 kg\\n602        70 kg\\n603        70 kg\\n604      100 lbs\\n605         2 kg\\n606            1\\n607        60 kg\\n608        60 kg\\n609        50 kg\\n610        69 kg\\n611         8 kg\\n612         2 kg\\n613         2 kg\\n614        60 kg\\n615        60 kg\\n616        60 kg\\n617        60 kg\\n618         1 kg\\n619        60 kg\\n620        30 kg\\n621        60 kg\\n622        70 kg\\n623         1 kg\\n624        69 kg\\n625         1 kg\\n626         1 kg\\n627         1 kg\\n628         1 kg\\n629      100 lbs\\n630         1 kg\\n631        70 kg\\n632        70 kg\\n633        69 kg\\n634         5 kg\\n635        59 kg\\n636        10 kg\\n637        60 kg\\n638         2 kg\\n639         1 kg\\n640        20 kg\\n641        60 kg\\n642        60 kg\\n643         1 kg\\n644        5 lbs\\n645         2 kg\\n646        70 kg\\n647        70 kg\\n648        70 kg\\n649         1 kg\\n650         1 kg\\n651        70 kg\\n652        60 kg\\n653        60 kg\\n654         1 kg\\n655        69 kg\\n656        69 kg\\n657         1 kg\\n658        20 kg\\n659        60 kg\\n660        60 kg\\n661         2 kg\\n662        60 kg\\n663        69 kg\\n664        70 kg\\n665        69 kg\\n666         1 kg\\n667         1 kg\\n668         1 kg\\n669         1 kg\\n670        60 kg\\n671        70 kg\\n672      100 lbs\\n673            1\\n674         2 kg\\n675        69 kg\\n676        69 kg\\n677        69 kg\\n678        69 kg\\n679        70 kg\\n680        60 kg\\n681        60 kg\\n682        60 kg\\n683         2 kg\\n684         1 kg\\n685         1 kg\\n686        60 kg\\n687        5 lbs\\n688        60 kg\\n689         1 kg\\n690         2 kg\\n691        70 kg\\n692         1 kg\\n693         1 kg\\n694         1 kg\\n695         1 kg\\n696         1 kg\\n697         1 kg\\n698         1 kg\\n699         1 kg\\n700         1 kg\\n701        70 kg\\n702        60 kg\\n703        70 kg\\n704        70 kg\\n705        69 kg\\n706         2 kg\\n707        59 kg\\n708        60 kg\\n709        69 kg\\n710        69 kg\\n711        60 kg\\n712         2 kg\\n713        60 kg\\n714        69 kg\\n715        60 kg\\n716         2 kg\\n717        69 kg\\n718        5 lbs\\n719         3 kg\\n720        20 kg\\n721        30 kg\\n722        69 kg\\n723        70 kg\\n724         1 kg\\n725         1 kg\\n726        69 kg\\n727         1 kg\\n728         1 kg\\n729         1 kg\\n730        60 kg\\n731         1 kg\\n732        60 kg\\n733        70 kg\\n734         5 kg\\n735        10 kg\\n736        69 kg\\n737         2 kg\\n738         1 kg\\n739         1 kg\\n740        60 kg\\n741         2 kg\\n742        60 kg\\n743         1 kg\\n744      100 lbs\\n745         1 kg\\n746        69 kg\\n747         1 kg\\n748         1 kg\\n749         1 kg\\n750         1 kg\\n751         1 kg\\n752        70 kg\\n753        70 kg\\n754        60 kg\\n755        70 kg\\n756        60 kg\\n757        69 kg\\n758        69 kg\\n759        80 kg\\n760        60 kg\\n761         2 kg\\n762         1 kg\\n763         1 kg\\n764        69 kg\\n765        60 kg\\n766        60 kg\\n767         1 kg\\n768         2 kg\\n769        60 kg\\n770        10 kg\\n771        70 kg\\n772         1 kg\\n773         1 kg\\n774         1 kg\\n775         1 kg\\n776        70 kg\\n777         1 kg\\n778        70 kg\\n779        60 kg\\n780         2 kg\\n781       350 kg\\n782         2 kg\\n783        60 kg\\n784        5 lbs\\n785        69 kg\\n786      100 lbs\\n787         1 kg\\n788         1 kg\\n789         1 kg\\n790         2 kg\\n791         1 kg\\n792      100 lbs\\n793        70 kg\\n794        69 kg\\n795        69 kg\\n796        60 kg\\n797        80 kg\\n798         2 kg\\n799        60 kg\\n800        60 kg\\n801        20 kg\\n802         1 kg\\n803         1 kg\\n804        69 kg\\n805        70 kg\\n806        10 kg\\n807         2 kg\\n808         1 kg\\n809        60 kg\\n810        60 kg\\n811         1 kg\\n812        60 kg\\n813         2 kg\\n814        70 kg\\n815        69 kg\\n816        69 kg\\n817        67 kg\\n818        59 kg\\n819        69 kg\\n820        69 kg\\n821        60 kg\\n822        5 lbs\\n823         2 kg\\n824         2 kg\\n825        30 kg\\n826         1 kg\\n827         1 kg\\n828         1 kg\\n829         1 kg\\n830         1 kg\\n831        60 kg\\n832        70 kg\\n833        69 kg\\n834        46 kg\\n835        59 kg\\n836        30 kg\\n837        69 kg\\n838         2 kg\\n839         2 kg\\n840         2 kg\\n841         2 kg\\n842         1 kg\\n843     18975 kg\\n844         5 kg\\n845        10 kg\\n846        60 kg\\n847         2 kg\\n848         1 kg\\n849         2 kg\\n850        70 kg\\n851      100 lbs\\n852        60 kg\\n853        69 kg\\n854         1 kg\\n855         1 kg\\n856        60 kg\\n857        70 kg\\n858        0 lbs\\n859        69 kg\\n860         2 kg\\n861        60 kg\\n862        5 lbs\\n863         1 kg\\n864         1 kg\\n865         1 kg\\n866         1 kg\\n867         1 kg\\n868        70 kg\\n869        70 kg\\n870        60 kg\\n871        69 kg\\n872        69 kg\\n873        69 kg\\n874        60 kg\\n875        69 kg\\n876        70 kg\\n877         2 kg\\n878        60 kg\\n879        60 kg\\n880         2 kg\\n881         4 kg\\n882         1 kg\\n883        69 kg\\n884        5 lbs\\n885        30 kg\\n886        30 kg\\n887         1 kg\\n888        69 kg\\n889         1 kg\\n890         1 kg\\n891         1 kg\\n892         1 kg\\n893         1 kg\\n894      100 lbs\\n895        69 kg\\n896        69 kg\\n897        50 kg\\n898        69 kg\\n899        60 kg\\n900        60 kg\\n901        20 kg\\n902        60 kg\\n903        69 kg\\n904         1 kg\\n905         1 kg\\n906         1 kg\\n907        50 kg\\n908        60 kg\\n909        60 kg\\n910        69 kg\\n911        69 kg\\n912        69 kg\\n913        69 kg\\n914         2 kg\\n915         1 kg\\n916         1 kg\\n917        60 kg\\n918        69 kg\\n919        20 kg\\n920        60 kg\\n921        4 lbs\\n922        30 kg\\n923         1 kg\\n924         1 kg\\n925         1 kg\\n926         1 kg\\n927        80 kg\\n928         1 kg\\n929        60 kg\\n930         1 kg\\n931         1 kg\\n932        70 kg\\n933            1\\n934        69 kg\\n935        69 kg\\n936        60 kg\\n937         1 kg\\n938        60 kg\\n939        60 kg\\n940         2 kg\\n941        69 kg\\n942         2 kg\\n943        5 lbs\\n944        69 kg\\n945         1 kg\\n946         1 kg\\n947        70 kg\\n948        70 kg\\n949        0 lbs\\n950        70 kg\\n951        69 kg\\n952        69 kg\\n953        60 kg\\n954         1 kg\\n955        60 kg\\n956         2 kg\\n957        60 kg\\n958         1 kg\\n959         1 kg\\n960         1 kg\\n961         5 kg\\n962        50 kg\\n963         2 kg\\n964        69 kg\\n965         1 kg\\n966       55 lbs\\n967        60 kg\\n968        30 kg\\n969        69 kg\\n970         1 kg\\n971        69 kg\\n972        60 kg\\n973         1 kg\\n974     18975 kg\\n975         1 kg\\n976        20 kg\\n977         2 kg\\n978        60 kg\\n979        60 kg\\n980         1 kg\\n981         1 kg\\n982         1 kg\\n983         1 kg\\n984        60 kg\\n985      100 lbs\\n986        60 kg\\n987        60 kg\\n988        69 kg\\n989        5 lbs\\n990        60 kg\\n991         1 kg\\n992        5 lbs\\n993         1 kg\\n994         1 kg\\n995         1 kg\\n996         1 kg\\n997      100 lbs\\n998        59 kg\\n999        69 kg\\n1000       59 kg\\n1001       69 kg\\n1002       70 kg\\n1003       69 kg\\n1004        5 kg\\n1005    18975 kg\\n1006       60 kg\\n1007       60 kg\\n1008       60 kg\\n1009       30 kg\\n1010        1 kg\\n1011        1 kg\\n1012        1 kg\\n1013        1 kg\\n1014       69 kg\\n1015       60 kg\\n1016       69 kg\\n1017        2 kg\\n1018     100 lbs\\n1019       60 kg\\n1020       60 kg\\n1021       60 kg\\n1022        2 kg\\n1023       1 lbs\\n1024       69 kg\\n1025       30 kg\\n1026       30 kg\\n1027       20 kg\\n1028        1 kg\\n1029       1 lbs\\n1030       50 kg\\n1031        1 kg\\n1032        1 kg\\n1033        1 kg\\n1034        1 kg\\n1035     100 lbs\\n1036       70 kg\\n1037       60 kg\\n1038        2 kg\\n1039       69 kg\\n1040       69 kg\\n1041        1 kg\\n1042       60 kg\\n1043        1 kg\\n1044        1 kg\\n1045       3 lbs\\n1046        1 kg\\n1047        2 kg\\n1048       2 lbs\\n1049        1 kg\\n1050       30 kg\\n1051       60 kg\\n1052        1 kg\\n1053       60 kg\\n1054        1 kg\\n1055       70 kg\\n1056       69 kg\\n1057        1 kg\\n1058        1 kg\\n1059       70 kg\\n1060       60 kg\\n1061       69 kg\\n1062       60 kg\\n1063        2 kg\\n1064       69 kg\\n1065       69 kg\\n1066     100 lbs\\n1067       70 kg\\n1068        5 kg\\n1069       69 kg\\n1070       69 kg\\n1071        2 kg\\n1072       60 kg\\n1073        2 kg\\n1074       69 kg\\n1075       60 kg\\n1076     100 lbs\\n1077        1 kg\\n1078        1 kg\\n1079       69 kg\\n1080       60 kg\\n1081        2 kg\\n1082        2 kg\\n1083       30 kg\\n1084        1 kg\\n1085        1 kg\\n1086       60 kg\\n1087       60 kg\\n1088       60 kg\\n1089       30 kg\\n1090       69 kg\\n1091        1 kg\\n1092     100 lbs\\n1093           6\\n1094       59 kg\\n1095       69 kg\\n1096       69 kg\\n1097        2 kg\\n1098        2 kg\\n1099       69 kg\\n1100     100 lbs\\n1101        2 kg\\n1102       30 kg\\n1103        1 kg\\n1104        1 kg\\n1105        2 kg\\n1106        2 kg\\n1107        1 kg\\n1108       69 kg\\n1109        1 kg\\n1110        1 kg\\n1111        1 kg\\n1112        1 kg\\n1113     100 lbs\\n1114       60 kg\\n1115       60 kg\\n1116       5 lbs\\n1117       30 kg\\n1118       30 kg\\n1119       30 kg\\n1120        1 kg\\n1121        1 kg\\n1122       69 kg\\n1123        2 kg\\n1124        2 kg\\n1125       30 kg\\n1126        1 kg\\n1127        1 kg\\n1128        1 kg\\n1129           6\\n1130        2 kg\\n1131      100 kg\\n1132        1 kg\\n1133        1 kg\\n1134        1 kg\\n1135        1 kg\\n1136        1 kg\\n1137        1 kg\\n1138     100 lbs\\n1139    12000 kg\\n1140       69 kg\\n1141        2 kg\\n1142        1 kg\\n1143     100 lbs\\n1144       69 kg\\n1145       50 kg\\n1146       20 kg\\n1147        1 kg\\n1148       5 lbs\\n1149        2 kg\\n1150        1 kg\\n1151        1 kg\\n1152        1 kg\\n1153        1 kg\\n1154        1 kg\\n1155       69 kg\\n1156        1 kg\\n1157       69 kg\\n1158       69 kg\\n1159        1 kg\\n1160       69 kg\\n1161        1 kg\\n1162        1 kg\\n1163        1 kg\\n1164       1 lbs\\n1165        1 kg\\n1166        1 kg\\n1167       70 kg\\n1168       69 kg\\n1169       69 kg\\n1170        2 kg\\n1171       70 kg\\n1172        1 kg\\n1173        1 kg\\n1174       69 kg\\n1175       69 kg\\n1176        1 kg\\n1177        1 kg\\n1178       3 lbs\\n1179        1 kg\\n1180        1 kg\\n1181        1 kg\\n1182       20 kg\\n1183        1 kg\\n1184       69 kg\\n1185       69 kg\\n1186       69 kg\\n1187       69 kg\\n1188        2 kg\\n1189        1 kg\\n1190        1 kg\\n1191           6\\n1192       69 kg\\n1193       5 lbs\\n1194        1 kg\\n1195        1 kg\\n1196        1 kg\\n1197       70 kg\\n1198       69 kg\\n1199        2 kg\\n1200       69 kg\\n1201        1 kg\\n1202        1 kg\\n1203        1 kg\\n1204        1 kg\\n1205        1 kg\\n1206        1 kg\\n1207       2 lbs\\n1208       69 kg\\n1209        1 kg\\n1210        1 kg\\n1211        1 kg\\n1212        2 kg\\n1213        1 kg\\n1214       69 kg\\n1215        2 kg\\n1216       69 kg\\n1217       20 kg\\n1218        1 kg\\n1219        1 kg\\n1220     100 lbs\\n1221       69 kg\\n1222        1 kg\\n1223        1 kg\\n1224       60 kg\\n1225        1 kg\\n1226     100 lbs\\n1227       69 kg\\n1228        1 kg\\n1229        1 kg\\n1230        1 kg\\n1231     100 lbs\\n1232     100 lbs\\n1233        1 kg\\n1234        1 kg\\n1235       10 kg\\n1236        2 kg\\n1237     100 lbs\\n1238       69 kg\\n1239        2 kg\\n1240       69 kg\\n1241        1 kg\\n1242       70 kg\\n1243        1 kg\\n1244        1 kg\\n1245        1 kg\\n1246       69 kg\\n1247       5 lbs\\n1248        1 kg\\n1249       10 kg\\n1250     100 lbs\\n1251        1 kg\\n1252        1 kg\\n1253       60 kg\\n1254       69 kg\\n1255        1 kg\\n1256       4 lbs\\n1257       2 lbs\\n1258        1 kg\\n1259        2 kg\\n1260       50 kg\\n1261           6\\n1262        2 kg\\n1263        1 kg\\n1264       69 kg\\n1265        2 kg\\n1266     100 lbs\\n1267     100 lbs\\n1268        1 kg\\n1269        2 kg\\n1270        1 kg\\n1271        2 kg\\n1272        2 kg\\n1273       59 kg\\n1274        1 kg\\n1275        1 kg\\n1276        1 kg\\n1277        1 kg\\n1278        1 kg\\n1279        1 kg\\n1280        1 kg\\n1281        1 kg\\n1282        1 kg\\n1283        1 kg\\n1284        1 kg\\n1285        1 kg\\n1286     100 lbs\\n1287       69 kg\\n1288        1 kg\\n1289        1 kg\\n1290        1 kg\\n1291     100 lbs\\n1292       60 kg\\n1293        2 kg\\n1294       69 kg\\n1295       5 lbs\\n1296     100 lbs\\n1297     130 lbs\\n1298        1 kg\\n1299        1 kg\\n1300        1 kg\\n1301        2 kg\\n1302       59 kg\\n1303        1 kg\\n1304        1 kg\\n1305        1 kg\\n1306        1 kg\\n1307        2 kg\\n1308       69 kg\\n1309        1 kg\\n1310       69 kg\\n1311       60 kg\\n1312       60 kg\\n1313        2 kg\\n1314       60 kg\\n1315       60 kg\\n1316        1 kg\\n1317        2 kg\\n1318       60 kg\\n1319       60 kg\\n1320       60 kg\\n1321       60 kg\\n1322       60 kg\\n1323        2 kg\\n1324       60 kg\\n1325       60 kg\\n1326        1 kg\\n1327        2 kg\\n1328       60 kg\\n1329       60 kg\\n1330       60 kg\\n1331        2 kg\\n1332        2 kg\\n1333        1 kg\\n1334        2 kg\\n1335        2 kg\\n1336        1 kg\\n1337       5 lbs\\n1338       5 lbs'"
      ]
     },
     "execution_count": 164,
     "metadata": {},
     "output_type": "execute_result"
    }
   ],
   "source": [
    "coffee_data[\"bag_weight\"].to_string()"
   ]
  },
  {
   "cell_type": "code",
   "execution_count": 165,
   "id": "15d35af4-9c66-4541-b307-e63e1b01bf0d",
   "metadata": {},
   "outputs": [],
   "source": [
    "## As the majority of the entries seem to be in kilograms, we will convert those values into integers and delete the rest\n",
    "\n",
    "bag_weight_list = coffee_data[\"bag_weight\"].tolist()\n",
    "\n",
    "for i in range(len(coffee_data[\"bag_weight\"])):\n",
    "    if 'lbs' in coffee_data.bag_weight[i]:\n",
    "        coffee_data = coffee_data.drop(index = i)\n",
    "    elif 'kg' in coffee_data.bag_weight[i]:\n",
    "        coffee_data.loc[coffee_data.index == i, 'bag_weight'] = coffee_data.bag_weight[i][:-3]"
   ]
  },
  {
   "cell_type": "code",
   "execution_count": 166,
   "id": "0dc6b85f-5a5d-42cc-b672-f5513185b31a",
   "metadata": {},
   "outputs": [
    {
     "data": {
      "text/plain": [
       "(1223, 44)"
      ]
     },
     "execution_count": 166,
     "metadata": {},
     "output_type": "execute_result"
    }
   ],
   "source": [
    "coffee_data.shape"
   ]
  },
  {
   "cell_type": "code",
   "execution_count": 167,
   "id": "a15d90b1-2b5b-4c00-9ff7-b5bbc8787dff",
   "metadata": {},
   "outputs": [
    {
     "data": {
      "text/plain": [
       "0       60\n",
       "1       60\n",
       "2        1\n",
       "3       60\n",
       "4       60\n",
       "        ..\n",
       "1332     2\n",
       "1333     1\n",
       "1334     2\n",
       "1335     2\n",
       "1336     1\n",
       "Name: bag_weight, Length: 1223, dtype: int32"
      ]
     },
     "execution_count": 167,
     "metadata": {},
     "output_type": "execute_result"
    }
   ],
   "source": [
    "coffee_data.bag_weight.astype(int)"
   ]
  },
  {
   "cell_type": "markdown",
   "id": "2ff1f817-8e5e-4185-a320-dde7ed2cada1",
   "metadata": {},
   "source": [
    "### Problem 5. Dates (1 point)\n",
    "This should remind you of problem 4 but it's slightly nastier. Fix the harvest years, document the process.\n",
    "\n",
    "While you're here, fix the expiration dates, and grading dates. Unlike the other column, these should be dates (`pd.to_datetime()` is your friend)."
   ]
  },
  {
   "cell_type": "code",
   "execution_count": null,
   "id": "814dc5f9-9572-44f0-bff6-8efeb084f93d",
   "metadata": {},
   "outputs": [],
   "source": []
  },
  {
   "cell_type": "markdown",
   "id": "0dff33b4-c94d-43b3-bab3-97eabb862a37",
   "metadata": {},
   "source": [
    "### Problem 6. Countries (1 point)\n",
    "How many coffees are there with unknown countries of origin? What can you do about them?"
   ]
  },
  {
   "cell_type": "code",
   "execution_count": null,
   "id": "0851c1a8-0420-4dba-ac27-487bae4318be",
   "metadata": {},
   "outputs": [],
   "source": []
  },
  {
   "cell_type": "markdown",
   "id": "d0aa6f30-4b93-4f23-95e0-2cafb7152c6c",
   "metadata": {},
   "source": [
    "### Problem 7. Owners (1 point)\n",
    "There are two suspicious columns, named `Owner`, and `Owner.1` (they're likely called something different after you solved problem 3). Do something about them. Is there any link to `Producer`?"
   ]
  },
  {
   "cell_type": "code",
   "execution_count": null,
   "id": "39bc1689-33f6-4446-bfc3-c4b4e69eccf6",
   "metadata": {},
   "outputs": [],
   "source": []
  },
  {
   "cell_type": "markdown",
   "id": "30c53923-1b72-4500-af0a-47fdca9f57e9",
   "metadata": {},
   "source": [
    "### Problem 8. Coffee color by country and continent (1 point)\n",
    "Create a table which shows how many coffees of each color are there in every country. Leave the missing values as they are.\n",
    "\n",
    "**Note:** If you ask me, countries should be in rows, I prefer long tables much better than wide ones.\n",
    "\n",
    "Now do the same for continents. You know what continent each country is located in."
   ]
  },
  {
   "cell_type": "code",
   "execution_count": null,
   "id": "72cbe6a9-ca71-4826-806d-562bc30b40d2",
   "metadata": {},
   "outputs": [],
   "source": []
  },
  {
   "cell_type": "markdown",
   "id": "27095ced-7179-4ee4-94d3-7d94450b4120",
   "metadata": {},
   "source": [
    "### Problem 9. Ratings (1 point)\n",
    "The columns `Aroma`, `Flavor`, etc., up to `Moisture` represent subjective ratings. Explore them. Show the means and range; draw histograms and / or boxplots as needed. You can even try correlations if you want. What's up with all those ratings?"
   ]
  },
  {
   "cell_type": "code",
   "execution_count": null,
   "id": "d08ee355-dcbb-4657-a814-cdcfbd455c42",
   "metadata": {},
   "outputs": [],
   "source": []
  },
  {
   "cell_type": "markdown",
   "id": "92054218-978d-48c6-b7aa-36226837354c",
   "metadata": {},
   "source": [
    "### Problem 10. High-level errors (1 point)\n",
    "Check the countries against region names, altitudes, and companies. Are there any discrepancies (e.g. human errors, like a region not matching the country)? Take a look at the (cleaned) altitudes; there has been a lot of preprocessing done to them. Was it done correctly?"
   ]
  },
  {
   "cell_type": "code",
   "execution_count": null,
   "id": "a971e5dd-4bb1-4ad6-bcbc-3cceab758f5d",
   "metadata": {},
   "outputs": [],
   "source": []
  },
  {
   "cell_type": "markdown",
   "id": "3c3b5118-9f8e-45c2-a200-1be89fa4b3bf",
   "metadata": {},
   "source": [
    "### * Problem 11. Clean and explore at will\n",
    "The dataset claimed to be clean, but we were able to discover a lot of things to fix and do better.\n",
    "\n",
    "Play around with the data as much as you wish, and if you find variables to tidy up and clean - by all means, do that!"
   ]
  },
  {
   "cell_type": "code",
   "execution_count": null,
   "id": "928732cf-7ef4-471a-9818-139dd519eb45",
   "metadata": {},
   "outputs": [],
   "source": []
  }
 ],
 "metadata": {
  "kernelspec": {
   "display_name": "Python 3 (ipykernel)",
   "language": "python",
   "name": "python3"
  },
  "language_info": {
   "codemirror_mode": {
    "name": "ipython",
    "version": 3
   },
   "file_extension": ".py",
   "mimetype": "text/x-python",
   "name": "python",
   "nbconvert_exporter": "python",
   "pygments_lexer": "ipython3",
   "version": "3.9.13"
  }
 },
 "nbformat": 4,
 "nbformat_minor": 5
}
