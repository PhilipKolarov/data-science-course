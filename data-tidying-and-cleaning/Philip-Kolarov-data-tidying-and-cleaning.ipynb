{
 "cells": [
  {
   "cell_type": "code",
   "execution_count": 1,
   "id": "3343f9a4-9db6-4557-b57f-58af6a2e8064",
   "metadata": {},
   "outputs": [],
   "source": [
    "import numpy as np\n",
    "import pandas as pd\n",
    "import matplotlib.pyplot as plt"
   ]
  },
  {
   "cell_type": "code",
   "execution_count": 5,
   "id": "f1690624-7097-449e-b4b8-250cb6884939",
   "metadata": {},
   "outputs": [
    {
     "data": {
      "text/plain": [
       "'body'"
      ]
     },
     "execution_count": 5,
     "metadata": {},
     "output_type": "execute_result"
    }
   ],
   "source": [
    "df1 = pd.read_csv(\"https://raw.githubusercontent.com/Geoyi/Cleaning-Titanic-Data/master/titanic_original.csv\")\n",
    "df1\n",
    "\n",
    "nan_counts = df1.isna().sum()\n",
    "column_with_max_nans = nan_counts.idxmax()\n",
    "column_with_max_nans"
   ]
  },
  {
   "cell_type": "code",
   "execution_count": 6,
   "id": "e4570439-fdc8-49f3-bf98-77094e1d75d4",
   "metadata": {},
   "outputs": [],
   "source": [
    "df2 = pd.read_csv(\"materials/Iris.csv\")"
   ]
  },
  {
   "cell_type": "code",
   "execution_count": 13,
   "id": "25c3d4fc-bc3a-4f09-9427-2e7de6728970",
   "metadata": {},
   "outputs": [
    {
     "data": {
      "text/html": [
       "<div>\n",
       "<style scoped>\n",
       "    .dataframe tbody tr th:only-of-type {\n",
       "        vertical-align: middle;\n",
       "    }\n",
       "\n",
       "    .dataframe tbody tr th {\n",
       "        vertical-align: top;\n",
       "    }\n",
       "\n",
       "    .dataframe thead th {\n",
       "        text-align: right;\n",
       "    }\n",
       "</style>\n",
       "<table border=\"1\" class=\"dataframe\">\n",
       "  <thead>\n",
       "    <tr style=\"text-align: right;\">\n",
       "      <th></th>\n",
       "      <th>Id</th>\n",
       "      <th>SepalLengthCm</th>\n",
       "      <th>SepalWidthCm</th>\n",
       "      <th>PetalLengthCm</th>\n",
       "      <th>PetalWidthCm</th>\n",
       "      <th>Species</th>\n",
       "    </tr>\n",
       "  </thead>\n",
       "  <tbody>\n",
       "    <tr>\n",
       "      <th>0</th>\n",
       "      <td>1</td>\n",
       "      <td>5.1</td>\n",
       "      <td>3.5</td>\n",
       "      <td>1.4</td>\n",
       "      <td>0.2</td>\n",
       "      <td>Iris-setosa</td>\n",
       "    </tr>\n",
       "    <tr>\n",
       "      <th>1</th>\n",
       "      <td>2</td>\n",
       "      <td>4.9</td>\n",
       "      <td>3.0</td>\n",
       "      <td>1.4</td>\n",
       "      <td>0.2</td>\n",
       "      <td>Iris-setosa</td>\n",
       "    </tr>\n",
       "    <tr>\n",
       "      <th>2</th>\n",
       "      <td>3</td>\n",
       "      <td>4.7</td>\n",
       "      <td>3.2</td>\n",
       "      <td>1.3</td>\n",
       "      <td>0.2</td>\n",
       "      <td>Iris-setosa</td>\n",
       "    </tr>\n",
       "    <tr>\n",
       "      <th>3</th>\n",
       "      <td>4</td>\n",
       "      <td>4.6</td>\n",
       "      <td>3.1</td>\n",
       "      <td>1.5</td>\n",
       "      <td>0.2</td>\n",
       "      <td>Iris-setosa</td>\n",
       "    </tr>\n",
       "    <tr>\n",
       "      <th>4</th>\n",
       "      <td>5</td>\n",
       "      <td>5.0</td>\n",
       "      <td>3.6</td>\n",
       "      <td>1.4</td>\n",
       "      <td>0.2</td>\n",
       "      <td>Iris-setosa</td>\n",
       "    </tr>\n",
       "    <tr>\n",
       "      <th>...</th>\n",
       "      <td>...</td>\n",
       "      <td>...</td>\n",
       "      <td>...</td>\n",
       "      <td>...</td>\n",
       "      <td>...</td>\n",
       "      <td>...</td>\n",
       "    </tr>\n",
       "    <tr>\n",
       "      <th>145</th>\n",
       "      <td>146</td>\n",
       "      <td>6.7</td>\n",
       "      <td>3.0</td>\n",
       "      <td>5.2</td>\n",
       "      <td>2.3</td>\n",
       "      <td>Iris-virginica</td>\n",
       "    </tr>\n",
       "    <tr>\n",
       "      <th>146</th>\n",
       "      <td>147</td>\n",
       "      <td>6.3</td>\n",
       "      <td>2.5</td>\n",
       "      <td>5.0</td>\n",
       "      <td>1.9</td>\n",
       "      <td>Iris-virginica</td>\n",
       "    </tr>\n",
       "    <tr>\n",
       "      <th>147</th>\n",
       "      <td>148</td>\n",
       "      <td>6.5</td>\n",
       "      <td>3.0</td>\n",
       "      <td>5.2</td>\n",
       "      <td>2.0</td>\n",
       "      <td>Iris-virginica</td>\n",
       "    </tr>\n",
       "    <tr>\n",
       "      <th>148</th>\n",
       "      <td>149</td>\n",
       "      <td>6.2</td>\n",
       "      <td>3.4</td>\n",
       "      <td>5.4</td>\n",
       "      <td>2.3</td>\n",
       "      <td>Iris-virginica</td>\n",
       "    </tr>\n",
       "    <tr>\n",
       "      <th>149</th>\n",
       "      <td>150</td>\n",
       "      <td>5.9</td>\n",
       "      <td>3.0</td>\n",
       "      <td>5.1</td>\n",
       "      <td>1.8</td>\n",
       "      <td>Iris-virginica</td>\n",
       "    </tr>\n",
       "  </tbody>\n",
       "</table>\n",
       "<p>150 rows × 6 columns</p>\n",
       "</div>"
      ],
      "text/plain": [
       "      Id  SepalLengthCm  SepalWidthCm  PetalLengthCm  PetalWidthCm  \\\n",
       "0      1            5.1           3.5            1.4           0.2   \n",
       "1      2            4.9           3.0            1.4           0.2   \n",
       "2      3            4.7           3.2            1.3           0.2   \n",
       "3      4            4.6           3.1            1.5           0.2   \n",
       "4      5            5.0           3.6            1.4           0.2   \n",
       "..   ...            ...           ...            ...           ...   \n",
       "145  146            6.7           3.0            5.2           2.3   \n",
       "146  147            6.3           2.5            5.0           1.9   \n",
       "147  148            6.5           3.0            5.2           2.0   \n",
       "148  149            6.2           3.4            5.4           2.3   \n",
       "149  150            5.9           3.0            5.1           1.8   \n",
       "\n",
       "            Species  \n",
       "0       Iris-setosa  \n",
       "1       Iris-setosa  \n",
       "2       Iris-setosa  \n",
       "3       Iris-setosa  \n",
       "4       Iris-setosa  \n",
       "..              ...  \n",
       "145  Iris-virginica  \n",
       "146  Iris-virginica  \n",
       "147  Iris-virginica  \n",
       "148  Iris-virginica  \n",
       "149  Iris-virginica  \n",
       "\n",
       "[150 rows x 6 columns]"
      ]
     },
     "execution_count": 13,
     "metadata": {},
     "output_type": "execute_result"
    }
   ],
   "source": [
    "df2"
   ]
  },
  {
   "cell_type": "code",
   "execution_count": 23,
   "id": "9838fc7f-d73a-4675-a3f0-1d4df67e0a3f",
   "metadata": {},
   "outputs": [
    {
     "data": {
      "text/plain": [
       "3.826712328767126"
      ]
     },
     "execution_count": 23,
     "metadata": {},
     "output_type": "execute_result"
    }
   ],
   "source": [
    "sepal_length = df2[\"SepalLengthCm\"].tolist()\n",
    "petal_length = df2[\"PetalLengthCm\"].tolist()\n",
    "\n",
    "index_list = []\n",
    "for i in range(len(sepal_length)):\n",
    "    if sepal_length[i] >= 4.5 and sepal_length[i] <= 10:\n",
    "        index_list.append(i)\n",
    "\n",
    "pl_values = []\n",
    "for i in index_list:\n",
    "    pl_values.append(petal_length[i])\n",
    "\n",
    "result = sum(pl_values) / len(pl_values)\n",
    "result"
   ]
  },
  {
   "cell_type": "code",
   "execution_count": 121,
   "id": "91a08570-c214-4cc4-8412-5024ee749c65",
   "metadata": {},
   "outputs": [
    {
     "data": {
      "text/plain": [
       "5.6360225140712945"
      ]
     },
     "execution_count": 121,
     "metadata": {},
     "output_type": "execute_result"
    }
   ],
   "source": [
    "df_red = pd.read_csv(\"materials/winequality-red.csv\")\n",
    "np_red = df_red.to_numpy()\n",
    "columns_messy = 'fixed acidity;\"volatile acidity\";\"citric acid\";\"residual sugar\";\"chlorides\";\"free sulfur dioxide\";\"total sulfur dioxide\";\"density\";\"pH\";\"sulphates\";\"alcohol\";\"quality\"'\n",
    "columns_list = columns_messy.replace('\"', '').replace(' ', '_').lower().split(';')\n",
    "df_red_new - pd.DataFrame()\n",
    "\n",
    "red_all_values_list = df_red.loc[:, :].values.tolist()\n",
    "red_new_values_list = []\n",
    "for el in red_all_values_list:\n",
    "    string_list_el = el[0].replace(\"'\", \"\").split(\";\")\n",
    "    int_list_el = list(map(float, string_list_el))\n",
    "    red_new_values_list.append(int_list_el)\n",
    "\n",
    "red_np_new_values = np.array(red_new_values_list).T\n",
    "\n",
    "red_avg_quality = sum(red_np_new_values[11]) / len(red_np_new_values[11])\n",
    "red_avg_quality"
   ]
  },
  {
   "cell_type": "code",
   "execution_count": 128,
   "id": "ae26a92a-615c-4aba-835c-80ffd34b0cdf",
   "metadata": {},
   "outputs": [
    {
     "data": {
      "text/plain": [
       "5.87790935075541"
      ]
     },
     "execution_count": 128,
     "metadata": {},
     "output_type": "execute_result"
    }
   ],
   "source": [
    "df_white = pd.read_csv(\"materials/winequality-white.csv\")\n",
    "np_white = df_white.to_numpy()\n",
    "columns_messy = 'fixed acidity;\"volatile acidity\";\"citric acid\";\"residual sugar\";\"chlorides\";\"free sulfur dioxide\";\"total sulfur dioxide\";\"density\";\"pH\";\"sulphates\";\"alcohol\";\"quality\"'\n",
    "columns_list = columns_messy.replace('\"', '').replace(' ', '_').lower().split(';')\n",
    "\n",
    "white_all_values_list = df_white.loc[:, :].values.tolist()\n",
    "white_new_values_list = []\n",
    "for el in white_all_values_list:\n",
    "    string_list_el = el[0].replace(\"'\", \"\").split(\";\")\n",
    "    int_list_el = list(map(float, string_list_el))\n",
    "    white_new_values_list.append(int_list_el)\n",
    "\n",
    "white_np_new_values = np.array(white_new_values_list).T\n",
    "\n",
    "white_avg_quality = sum(white_np_new_values[11]) / len(white_np_new_values[11])\n",
    "white_avg_quality"
   ]
  },
  {
   "cell_type": "code",
   "execution_count": 133,
   "id": "a06bd4e5-d6cc-49d6-a151-076c2e74c58c",
   "metadata": {},
   "outputs": [
    {
     "data": {
      "text/plain": [
       "1.8767855405660325"
      ]
     },
     "execution_count": 133,
     "metadata": {},
     "output_type": "execute_result"
    }
   ],
   "source": [
    "red_ratio_alcohol_quality_list = []\n",
    "counter = 0\n",
    "\n",
    "for el in red_np_new_values[10]:\n",
    "    ratio = el / red_np_new_values[11][counter]\n",
    "    counter += 1\n",
    "    red_ratio_alcohol_quality_list.append(ratio)\n",
    "\n",
    "red_avg_ratio_alcohol_quality = sum(red_ratio_alcohol_quality_list) / len(red_ratio_alcohol_quality_list)\n",
    "red_avg_ratio_alcohol_quality"
   ]
  },
  {
   "cell_type": "code",
   "execution_count": 134,
   "id": "43220c51-849e-45d2-abcf-87cfa7bfa92d",
   "metadata": {},
   "outputs": [
    {
     "data": {
      "text/plain": [
       "1.8181915780331503"
      ]
     },
     "execution_count": 134,
     "metadata": {},
     "output_type": "execute_result"
    }
   ],
   "source": [
    "white_ratio_alcohol_quality_list = []\n",
    "counter = 0\n",
    "\n",
    "for el in white_np_new_values[10]:\n",
    "    ratio = el / white_np_new_values[11][counter]\n",
    "    counter += 1\n",
    "    white_ratio_alcohol_quality_list.append(ratio)\n",
    "\n",
    "white_avg_ratio_alcohol_quality = sum(white_ratio_alcohol_quality_list) / len(white_ratio_alcohol_quality_list)\n",
    "white_avg_ratio_alcohol_quality"
   ]
  }
 ],
 "metadata": {
  "kernelspec": {
   "display_name": "Python 3 (ipykernel)",
   "language": "python",
   "name": "python3"
  },
  "language_info": {
   "codemirror_mode": {
    "name": "ipython",
    "version": 3
   },
   "file_extension": ".py",
   "mimetype": "text/x-python",
   "name": "python",
   "nbconvert_exporter": "python",
   "pygments_lexer": "ipython3",
   "version": "3.9.13"
  }
 },
 "nbformat": 4,
 "nbformat_minor": 5
}
